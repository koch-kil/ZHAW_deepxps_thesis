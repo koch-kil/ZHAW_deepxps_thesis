{
 "cells": [
  {
   "cell_type": "markdown",
   "metadata": {},
   "source": [
    "# Grab folders from XPSSurfA"
   ]
  },
  {
   "cell_type": "code",
   "execution_count": null,
   "metadata": {},
   "outputs": [],
   "source": [
    "from bs4 import BeautifulSoup\n",
    "import os\n",
    "import requests\n",
    "import urllib.request\n",
    "import os"
   ]
  },
  {
   "cell_type": "code",
   "execution_count": null,
   "metadata": {},
   "outputs": [],
   "source": [
    "number = 1\n",
    "URL = f'https://cmsshub.latrobe.edu.au/xpsdatabase/xpsrecords/download_data_files/{number}'\n",
    "req = requests.get(URL)\n",
    "soup = BeautifulSoup(open('../../data/test_data/XPSSurfA/view-source_https___cmsshub.latrobe.edu.au_xpsdatabase_xpsrecords.html'),\n",
    "                            'html.parser')\n",
    "numbers = [int(p.get('href').split('/')[-1]) \n",
    "           for p in soup.findAll(class_=\"html-attribute-value html-external-link\") \n",
    "           if 'view' in p.get('href')]"
   ]
  },
  {
   "cell_type": "code",
   "execution_count": null,
   "metadata": {},
   "outputs": [],
   "source": [
    "for number in numbers:\n",
    "    print(number)\n",
    "    if os.path.isfile(f'../../data/test_data/XPSSurfA/{number}.zip'):\n",
    "        print('already downloaded')\n",
    "        continue\n",
    "    URL = f'https://cmsshub.latrobe.edu.au/xpsdatabase/xpsrecords/download_data_files/{number}'\n",
    "    file_name  = f'../../data/test_data/XPSSurfA/{number}.zip'\n",
    "    # Download the file from `url` and save it locally under `file_name`:\n",
    "    with urllib.request.urlopen(URL) as response, open(file_name, 'wb') as out_file:\n",
    "        data = response.read() # a `bytes` object\n",
    "        out_file.write(data)\n"
   ]
  },
  {
   "cell_type": "markdown",
   "metadata": {},
   "source": [
    "# Unzip all downloaded files from XPSlibrary.com"
   ]
  },
  {
   "cell_type": "code",
   "execution_count": null,
   "metadata": {},
   "outputs": [],
   "source": [
    "import os\n",
    "import zipfile\n",
    "\n",
    "root_folder = '../../data/test_data/XPSSurfA'\n",
    "\n",
    "# add //? before path if the path is too long otherwise it will throw an error\n",
    "\n",
    "def extract_zip_files(root_folder):\n",
    "    for foldername, subfolders, filenames in os.walk(root_folder):\n",
    "        for filename in filenames:\n",
    "            if filename.endswith('.zip'):\n",
    "                zip_file_path = os.path.join(foldername, filename)\n",
    "                print(os.path.join(foldername, os.path.splitext(filename)[0]))\n",
    "                with zipfile.ZipFile(zip_file_path, 'r') as zip_ref:\n",
    "                    zip_ref.extractall(os.path.join(foldername, os.path.splitext(filename)[0]))\n"
   ]
  },
  {
   "cell_type": "code",
   "execution_count": null,
   "metadata": {},
   "outputs": [],
   "source": [
    "extract_zip_files(root_folder)"
   ]
  },
  {
   "cell_type": "markdown",
   "metadata": {},
   "source": [
    "# Check files from XPSSurfA"
   ]
  },
  {
   "cell_type": "code",
   "execution_count": null,
   "metadata": {},
   "outputs": [],
   "source": [
    "files = []\n",
    "for foldername, subfolders, filenames in os.walk(root_folder):\n",
    "    # check if there is a *.vms file in the folder\n",
    "    # print(foldername)\n",
    "    if any([filename.endswith('.vms') for filename in filenames]):\n",
    "        # print('yes')\n",
    "        files.append(([foldername + '\\\\' +filename for filename in filenames if filename.endswith('.vms')][0]))"
   ]
  },
  {
   "cell_type": "code",
   "execution_count": null,
   "metadata": {},
   "outputs": [
    {
     "data": {
      "text/plain": [
       "121"
      ]
     },
     "metadata": {},
     "output_type": "display_data"
    }
   ],
   "source": [
    "len(files) # we have 121 test files"
   ]
  },
  {
   "cell_type": "code",
   "execution_count": null,
   "metadata": {},
   "outputs": [],
   "source": [
    "files = [f for f in files if len(f.split('_')) > 2 and len(f.split('_')[-1]) < 15 and not 'Cali' in f]"
   ]
  },
  {
   "cell_type": "code",
   "execution_count": null,
   "metadata": {},
   "outputs": [
    {
     "data": {
      "text/plain": [
       "['../../data/test_data/XPSSurfA\\\\10\\\\Fe_Fe.vms',\n",
       " '../../data/test_data/XPSSurfA\\\\13\\\\Ar_Ar.vms',\n",
       " '../../data/test_data/XPSSurfA\\\\149\\\\Cu_Cu_Ultra.vms',\n",
       " '../../data/test_data/XPSSurfA\\\\15\\\\Mg_Mg.vms',\n",
       " '../../data/test_data/XPSSurfA\\\\150\\\\Ag_Ag_Ultra.vms',\n",
       " '../../data/test_data/XPSSurfA\\\\151\\\\Au_Au_Ultra.vms',\n",
       " '../../data/test_data/XPSSurfA\\\\154\\\\Nb_Nb.vms',\n",
       " '../../data/test_data/XPSSurfA\\\\16\\\\Ni_Ni.vms',\n",
       " '../../data/test_data/XPSSurfA\\\\17\\\\Mo_Mo.vms',\n",
       " '../../data/test_data/XPSSurfA\\\\18\\\\Ta_Ta.vms',\n",
       " '../../data/test_data/XPSSurfA\\\\2\\\\Au_Au.vms',\n",
       " '../../data/test_data/XPSSurfA\\\\20\\\\Al_Al.vms',\n",
       " '../../data/test_data/XPSSurfA\\\\22\\\\Si_Si.vms',\n",
       " '../../data/test_data/XPSSurfA\\\\3\\\\Ag_Ag.vms',\n",
       " '../../data/test_data/XPSSurfA\\\\4\\\\Pt_Pt.vms',\n",
       " '../../data/test_data/XPSSurfA\\\\5\\\\Cu_Cu.vms',\n",
       " '../../data/test_data/XPSSurfA\\\\7\\\\W_W.vms',\n",
       " '../../data/test_data/XPSSurfA\\\\9\\\\In_In.vms']"
      ]
     },
     "metadata": {},
     "output_type": "display_data"
    }
   ],
   "source": [
    "files"
   ]
  }
 ],
 "metadata": {
  "language_info": {
   "name": "python"
  },
  "orig_nbformat": 4
 },
 "nbformat": 4,
 "nbformat_minor": 2
}
